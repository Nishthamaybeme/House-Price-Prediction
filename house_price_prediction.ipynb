{
  "nbformat": 4,
  "nbformat_minor": 0,
  "metadata": {
    "colab": {
      "provenance": [],
      "authorship_tag": "ABX9TyMsCE4g8FaJQexgB5msQa/H",
      "include_colab_link": true
    },
    "kernelspec": {
      "name": "python3",
      "display_name": "Python 3"
    },
    "language_info": {
      "name": "python"
    }
  },
  "cells": [
    {
      "cell_type": "markdown",
      "metadata": {
        "id": "view-in-github",
        "colab_type": "text"
      },
      "source": [
        "<a href=\"https://colab.research.google.com/github/Nishthamaybeme/House-Price-Prediction/blob/main/house_price_prediction.ipynb\" target=\"_parent\"><img src=\"https://colab.research.google.com/assets/colab-badge.svg\" alt=\"Open In Colab\"/></a>"
      ]
    },
    {
      "cell_type": "code",
      "source": [
        "from google.colab import drive\n",
        "drive.mount('/content/drive')\n"
      ],
      "metadata": {
        "colab": {
          "base_uri": "https://localhost:8080/"
        },
        "id": "hzTx79gLSmG0",
        "outputId": "29762e75-d5c5-45ba-a096-c04c8326cd09"
      },
      "execution_count": null,
      "outputs": [
        {
          "output_type": "stream",
          "name": "stdout",
          "text": [
            "Mounted at /content/drive\n"
          ]
        }
      ]
    },
    {
      "cell_type": "code",
      "source": [
        "import pandas as pd\n",
        "\n",
        "# Assuming your train dataset is loaded into a DataFrame called 'train_data'\n",
        "# Example:\n",
        "train_data = pd.read_csv('/content/drive/MyDrive/housing price prediction/train.csv')\n",
        "\n",
        "# Separate categorical columns from numeric columns\n",
        "categorical_columns = train_data.select_dtypes(include=['object']).columns\n",
        "\n",
        "# Apply one-hot encoding to categorical columns\n",
        "train_data_encoded = pd.get_dummies(train_data, columns=categorical_columns, drop_first=True)\n",
        "\n",
        "# Check the transformed data\n",
        "print(train_data_encoded.head())\n"
      ],
      "metadata": {
        "id": "t0j-rLfmSu53",
        "colab": {
          "base_uri": "https://localhost:8080/"
        },
        "outputId": "b3a0d91e-ef66-4ead-e2ec-0b5c7d129a45"
      },
      "execution_count": null,
      "outputs": [
        {
          "output_type": "stream",
          "name": "stdout",
          "text": [
            "   Id  MSSubClass  LotFrontage  LotArea  OverallQual  OverallCond  YearBuilt  \\\n",
            "0   1          60         65.0     8450            7            5       2003   \n",
            "1   2          20         80.0     9600            6            8       1976   \n",
            "2   3          60         68.0    11250            7            5       2001   \n",
            "3   4          70         60.0     9550            7            5       1915   \n",
            "4   5          60         84.0    14260            8            5       2000   \n",
            "\n",
            "   YearRemodAdd  MasVnrArea  BsmtFinSF1  ...  SaleType_ConLI  SaleType_ConLw  \\\n",
            "0          2003       196.0         706  ...           False           False   \n",
            "1          1976         0.0         978  ...           False           False   \n",
            "2          2002       162.0         486  ...           False           False   \n",
            "3          1970         0.0         216  ...           False           False   \n",
            "4          2000       350.0         655  ...           False           False   \n",
            "\n",
            "   SaleType_New  SaleType_Oth  SaleType_WD  SaleCondition_AdjLand  \\\n",
            "0         False         False         True                  False   \n",
            "1         False         False         True                  False   \n",
            "2         False         False         True                  False   \n",
            "3         False         False         True                  False   \n",
            "4         False         False         True                  False   \n",
            "\n",
            "   SaleCondition_Alloca  SaleCondition_Family  SaleCondition_Normal  \\\n",
            "0                 False                 False                  True   \n",
            "1                 False                 False                  True   \n",
            "2                 False                 False                  True   \n",
            "3                 False                 False                 False   \n",
            "4                 False                 False                  True   \n",
            "\n",
            "   SaleCondition_Partial  \n",
            "0                  False  \n",
            "1                  False  \n",
            "2                  False  \n",
            "3                  False  \n",
            "4                  False  \n",
            "\n",
            "[5 rows x 246 columns]\n"
          ]
        }
      ]
    },
    {
      "cell_type": "code",
      "execution_count": null,
      "metadata": {
        "colab": {
          "base_uri": "https://localhost:8080/"
        },
        "id": "a4AiYnHXSJft",
        "outputId": "4a3202d4-ac11-437e-a579-d942afe8db00"
      },
      "outputs": [
        {
          "output_type": "stream",
          "name": "stdout",
          "text": [
            "     Id  MSSubClass  LotFrontage  LotArea  OverallQual  OverallCond  \\\n",
            "0  1461          20         80.0    11622            5            6   \n",
            "1  1462          20         81.0    14267            6            6   \n",
            "2  1463          60         74.0    13830            5            5   \n",
            "3  1464          60         78.0     9978            6            6   \n",
            "4  1465         120         43.0     5005            8            5   \n",
            "\n",
            "   YearBuilt  YearRemodAdd  MasVnrArea  BsmtFinSF1  ...  SaleType_ConLI  \\\n",
            "0       1961          1961         0.0       468.0  ...           False   \n",
            "1       1958          1958       108.0       923.0  ...           False   \n",
            "2       1997          1998         0.0       791.0  ...           False   \n",
            "3       1998          1998        20.0       602.0  ...           False   \n",
            "4       1992          1992         0.0       263.0  ...           False   \n",
            "\n",
            "   SaleType_ConLw  SaleType_New  SaleType_Oth  SaleType_WD  \\\n",
            "0           False         False         False         True   \n",
            "1           False         False         False         True   \n",
            "2           False         False         False         True   \n",
            "3           False         False         False         True   \n",
            "4           False         False         False         True   \n",
            "\n",
            "   SaleCondition_AdjLand  SaleCondition_Alloca  SaleCondition_Family  \\\n",
            "0                  False                 False                 False   \n",
            "1                  False                 False                 False   \n",
            "2                  False                 False                 False   \n",
            "3                  False                 False                 False   \n",
            "4                  False                 False                 False   \n",
            "\n",
            "   SaleCondition_Normal  SaleCondition_Partial  \n",
            "0                  True                  False  \n",
            "1                  True                  False  \n",
            "2                  True                  False  \n",
            "3                  True                  False  \n",
            "4                  True                  False  \n",
            "\n",
            "[5 rows x 246 columns]\n"
          ]
        }
      ],
      "source": [
        "# Assuming your test dataset is loaded into a DataFrame called 'test_data'\n",
        "# Example:\n",
        "test_data = pd.read_csv('/content/drive/MyDrive/housing price prediction/test.csv')\n",
        "\n",
        "# Identify categorical columns in the training data\n",
        "categorical_columns = train_data.select_dtypes(include=['object']).columns\n",
        "\n",
        "# Apply one-hot encoding to the test data, using the same categorical columns as in train data\n",
        "test_data_encoded = pd.get_dummies(test_data, columns=categorical_columns, drop_first=True)\n",
        "\n",
        "# Ensure the test data has the same columns as the train data (if any categories are missing in the test data)\n",
        "# Align columns by adding missing columns with NaN values\n",
        "test_data_encoded = test_data_encoded.reindex(columns=train_data_encoded.columns, fill_value=0)\n",
        "\n",
        "# Check the transformed test data\n",
        "print(test_data_encoded.head())\n"
      ]
    },
    {
      "cell_type": "code",
      "source": [
        "print(\"Columns in train dataset:\")\n",
        "print(train_data.columns)\n",
        "\n",
        "print(\"\\nColumns in test dataset:\")\n",
        "print(test_data.columns)"
      ],
      "metadata": {
        "colab": {
          "base_uri": "https://localhost:8080/"
        },
        "id": "tzWKvZCYTk9P",
        "outputId": "1ea320ba-b285-45ce-fbcb-2ae92a36a385"
      },
      "execution_count": null,
      "outputs": [
        {
          "output_type": "stream",
          "name": "stdout",
          "text": [
            "Columns in train dataset:\n",
            "Index(['Id', 'MSSubClass', 'MSZoning', 'LotFrontage', 'LotArea', 'Street',\n",
            "       'Alley', 'LotShape', 'LandContour', 'Utilities', 'LotConfig',\n",
            "       'LandSlope', 'Neighborhood', 'Condition1', 'Condition2', 'BldgType',\n",
            "       'HouseStyle', 'OverallQual', 'OverallCond', 'YearBuilt', 'YearRemodAdd',\n",
            "       'RoofStyle', 'RoofMatl', 'Exterior1st', 'Exterior2nd', 'MasVnrType',\n",
            "       'MasVnrArea', 'ExterQual', 'ExterCond', 'Foundation', 'BsmtQual',\n",
            "       'BsmtCond', 'BsmtExposure', 'BsmtFinType1', 'BsmtFinSF1',\n",
            "       'BsmtFinType2', 'BsmtFinSF2', 'BsmtUnfSF', 'TotalBsmtSF', 'Heating',\n",
            "       'HeatingQC', 'CentralAir', 'Electrical', '1stFlrSF', '2ndFlrSF',\n",
            "       'LowQualFinSF', 'GrLivArea', 'BsmtFullBath', 'BsmtHalfBath', 'FullBath',\n",
            "       'HalfBath', 'BedroomAbvGr', 'KitchenAbvGr', 'KitchenQual',\n",
            "       'TotRmsAbvGrd', 'Functional', 'Fireplaces', 'FireplaceQu', 'GarageType',\n",
            "       'GarageYrBlt', 'GarageFinish', 'GarageCars', 'GarageArea', 'GarageQual',\n",
            "       'GarageCond', 'PavedDrive', 'WoodDeckSF', 'OpenPorchSF',\n",
            "       'EnclosedPorch', '3SsnPorch', 'ScreenPorch', 'PoolArea', 'PoolQC',\n",
            "       'Fence', 'MiscFeature', 'MiscVal', 'MoSold', 'YrSold', 'SaleType',\n",
            "       'SaleCondition', 'SalePrice'],\n",
            "      dtype='object')\n",
            "\n",
            "Columns in test dataset:\n",
            "Index(['Id', 'MSSubClass', 'MSZoning', 'LotFrontage', 'LotArea', 'Street',\n",
            "       'Alley', 'LotShape', 'LandContour', 'Utilities', 'LotConfig',\n",
            "       'LandSlope', 'Neighborhood', 'Condition1', 'Condition2', 'BldgType',\n",
            "       'HouseStyle', 'OverallQual', 'OverallCond', 'YearBuilt', 'YearRemodAdd',\n",
            "       'RoofStyle', 'RoofMatl', 'Exterior1st', 'Exterior2nd', 'MasVnrType',\n",
            "       'MasVnrArea', 'ExterQual', 'ExterCond', 'Foundation', 'BsmtQual',\n",
            "       'BsmtCond', 'BsmtExposure', 'BsmtFinType1', 'BsmtFinSF1',\n",
            "       'BsmtFinType2', 'BsmtFinSF2', 'BsmtUnfSF', 'TotalBsmtSF', 'Heating',\n",
            "       'HeatingQC', 'CentralAir', 'Electrical', '1stFlrSF', '2ndFlrSF',\n",
            "       'LowQualFinSF', 'GrLivArea', 'BsmtFullBath', 'BsmtHalfBath', 'FullBath',\n",
            "       'HalfBath', 'BedroomAbvGr', 'KitchenAbvGr', 'KitchenQual',\n",
            "       'TotRmsAbvGrd', 'Functional', 'Fireplaces', 'FireplaceQu', 'GarageType',\n",
            "       'GarageYrBlt', 'GarageFinish', 'GarageCars', 'GarageArea', 'GarageQual',\n",
            "       'GarageCond', 'PavedDrive', 'WoodDeckSF', 'OpenPorchSF',\n",
            "       'EnclosedPorch', '3SsnPorch', 'ScreenPorch', 'PoolArea', 'PoolQC',\n",
            "       'Fence', 'MiscFeature', 'MiscVal', 'MoSold', 'YrSold', 'SaleType',\n",
            "       'SaleCondition'],\n",
            "      dtype='object')\n"
          ]
        }
      ]
    },
    {
      "cell_type": "code",
      "source": [
        "import pandas as pd\n",
        "from sklearn.ensemble import RandomForestRegressor\n",
        "\n",
        "# Load the one-hot encoded datasets\n",
        "\n",
        "# Save Id from the test data, it will be needed later in the output\n",
        "if 'Id' in test_data.columns:\n",
        "    test_id = test_data['Id']\n",
        "else:\n",
        "    test_id = None\n",
        "    print(\"No 'Id' column found in the test data.\")\n",
        "\n",
        "# Separate the target variable 'SalePrice' from the features\n",
        "X_train = train_data.drop(columns=['SalePrice'], errors='ignore')\n",
        "y_train = train_data['SalePrice']\n",
        "\n",
        "# Handle missing values in numeric columns for both train and test datasets\n",
        "numeric_columns = X_train.select_dtypes(include=['float64', 'int64']).columns\n",
        "\n",
        "# Fill missing values with the median of each column\n",
        "X_train[numeric_columns] = X_train[numeric_columns].fillna(X_train[numeric_columns].median())\n",
        "X_test = test_data.copy()  # Make a copy of the test data to predict on\n",
        "\n",
        "# Fill missing values in the test dataset\n",
        "X_test[numeric_columns] = X_test[numeric_columns].fillna(X_test[numeric_columns].median())\n",
        "\n",
        "# Handle missing values in categorical columns for both train and test datasets\n",
        "categorical_columns = X_train.select_dtypes(include=['object']).columns\n",
        "\n",
        "# Fill missing values in categorical columns with the mode (most frequent value)\n",
        "X_train[categorical_columns] = X_train[categorical_columns].fillna(X_train[categorical_columns].mode().iloc[0])\n",
        "X_test[categorical_columns] = X_test[categorical_columns].fillna(X_test[categorical_columns].mode().iloc[0])\n",
        "\n",
        "# Now, ensure that the categorical columns are one-hot encoded in both datasets\n",
        "X_train = pd.get_dummies(X_train, drop_first=True)  # One-hot encode and drop the first column to avoid multicollinearity\n",
        "X_test = pd.get_dummies(X_test, drop_first=True)\n",
        "\n",
        "# Align the columns of X_train and X_test to have the same columns\n",
        "X_train, X_test = X_train.align(X_test, join='left', axis=1, fill_value=0)\n",
        "\n",
        "# Train the model (Random Forest Regressor in this case)\n",
        "model = RandomForestRegressor(n_estimators=100, random_state=42)\n",
        "model.fit(X_train, y_train)\n",
        "\n",
        "# Predict the SalePrice for the test dataset\n",
        "y_pred = model.predict(X_test)\n",
        "\n",
        "# Ensure the output includes both Id and predicted SalePrice\n",
        "if test_id is not None:\n",
        "    output = pd.DataFrame({'Id': test_id, 'SalePrice': y_pred})\n",
        "else:\n",
        "    output = pd.DataFrame({'SalePrice': y_pred})\n",
        "\n",
        "# Specify the file path for saving predictions\n",
        "output_path = '/content/drive/MyDrive/housing_price_predictions_output.csv'\n",
        "output.to_csv(output_path, index=False)\n",
        "\n",
        "print(f\"Predictions saved to '{output_path}'\")\n"
      ],
      "metadata": {
        "colab": {
          "base_uri": "https://localhost:8080/"
        },
        "id": "ZCdl2WjkHB2R",
        "outputId": "69e9e414-53d9-4495-83c2-cbf1e8ddd0ba"
      },
      "execution_count": null,
      "outputs": [
        {
          "output_type": "stream",
          "name": "stdout",
          "text": [
            "Predictions saved to '/content/drive/MyDrive/housing_price_predictions_output.csv'\n"
          ]
        }
      ]
    }
  ]
}